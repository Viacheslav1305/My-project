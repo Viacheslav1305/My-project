{
  "nbformat": 4,
  "nbformat_minor": 0,
  "metadata": {
    "colab": {
      "name": "ttn_list.ipynb",
      "provenance": [],
      "authorship_tag": "ABX9TyPdxVaYzW5L8Nrw6lcUBTxz",
      "include_colab_link": true
    },
    "kernelspec": {
      "name": "python3",
      "display_name": "Python 3"
    },
    "language_info": {
      "name": "python"
    }
  },
  "cells": [
    {
      "cell_type": "markdown",
      "metadata": {
        "id": "view-in-github",
        "colab_type": "text"
      },
      "source": [
        "<a href=\"https://colab.research.google.com/github/Viacheslav1305/My-project/blob/main/ttn_list.ipynb\" target=\"_parent\"><img src=\"https://colab.research.google.com/assets/colab-badge.svg\" alt=\"Open In Colab\"/></a>"
      ]
    },
    {
      "cell_type": "code",
      "metadata": {
        "id": "NIeeWfhymXKY"
      },
      "source": [
        "import pandas as pd\n",
        "\n",
        "ttn_list = pd.read_excel('checklist_transporta.xlsx')\n",
        "x = ', '.join(\"'\" + str(i) + \"'\" for i in ttn_list['Номер ТТН'])\n",
        "with open('out.txt', 'w') as f:\n",
        "  print(x, file=f)"
      ],
      "execution_count": 112,
      "outputs": []
    }
  ]
}