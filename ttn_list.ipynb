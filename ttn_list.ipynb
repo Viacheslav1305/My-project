{
  "nbformat": 4,
  "nbformat_minor": 0,
  "metadata": {
    "colab": {
      "name": "Untitled0.ipynb",
      "provenance": [],
      "authorship_tag": "ABX9TyOLb8A/gizMINZIrcn5fVs2",
      "include_colab_link": true
    },
    "kernelspec": {
      "name": "python3",
      "display_name": "Python 3"
    },
    "language_info": {
      "name": "python"
    }
  },
  "cells": [
    {
      "cell_type": "markdown",
      "metadata": {
        "id": "view-in-github",
        "colab_type": "text"
      },
      "source": [
        "<a href=\"https://colab.research.google.com/github/Viacheslav1305/My-project/blob/main/ttn_list.ipynb\" target=\"_parent\"><img src=\"https://colab.research.google.com/assets/colab-badge.svg\" alt=\"Open In Colab\"/></a>"
      ]
    },
    {
      "cell_type": "code",
      "metadata": {
        "colab": {
          "base_uri": "https://localhost:8080/"
        },
        "id": "NIeeWfhymXKY",
        "outputId": "ca7e1abf-b854-4866-b3a8-19431224c746"
      },
      "source": [
        "import pandas as pd\n",
        "from pandas import DataFrame as df\n",
        "\n",
        "pd.read_excel('checklist_transporta.xlsx')\n",
        "\n",
        "ttn_list = pd.read_excel('checklist_transporta.xlsx')\n",
        "ttn_list['Номер ТТН']\n",
        "x = ','.join(str(e) for e in ttn_list['Номер ТТН'])\n",
        "print(x)"
      ],
      "execution_count": 81,
      "outputs": [
        {
          "output_type": "stream",
          "name": "stdout",
          "text": [
            "74340940,74343418,74338492,74343624,74338235,74338669,74341904,74344816,74340821,74343670,74344736,74346218,74346917,74345327,74343062,74346235,74347226,74343689,74347398,74343361,74346941,74345052,74348434,74342047,74342326,74334697,74344902,74343362,74343008,74342832,74343121,74344519,74345400,74342983,74342099,74343639,74343918,74343121,74344891,74341201,74343359,74345443,74341050,74343321,74342762,74346142,74346752,74341419,74338646,74345335\n"
          ]
        }
      ]
    },
    {
      "cell_type": "code",
      "metadata": {
        "id": "amhHEBE44X_B"
      },
      "source": [
        ""
      ],
      "execution_count": null,
      "outputs": []
    },
    {
      "cell_type": "code",
      "metadata": {
        "id": "yXffCMgn4WrN"
      },
      "source": [
        ""
      ],
      "execution_count": null,
      "outputs": []
    }
  ]
}